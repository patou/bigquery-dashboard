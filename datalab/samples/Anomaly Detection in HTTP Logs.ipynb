{
 "cells": [
  {
   "cell_type": "markdown",
   "metadata": {},
   "source": [
    "# Anomaly Detection in HTTP Logs\n",
    "\n",
    "This sample notebook demonstrates working with HTTP request logs data stored in BigQuery.\n",
    "\n",
    "Cloud Logging in Google Cloud Platform makes it simple to export HTTP request logs from AppEngine applications directly into BigQuery for further analysis. This log data includes information such as the requested resource, HTTP status code etc. One possible use of these logs is to mine them as they are collected to detect for anomalies in response latency, as this can be a signal for some unexpected issue with the deployment.\n",
    "\n",
    "The sample data used in this notebook is similar to these AppEngine logs. It represents HTTP logs from a hypothetical application that have been anonymized.\n",
    "\n",
    "Related Links:\n",
    "\n",
    "* [Cloud Logging](https://cloud.google.com/logging/docs/)\n",
    "* [BigQuery](https://cloud.google.com/bigquery/what-is-bigquery)\n",
    "* [Pandas](http://pandas.pydata.org/) for data analysis\n",
    "* [Matplotlib](http://matplotlib.org/) for data visualization"
   ]
  },
  {
   "cell_type": "code",
   "execution_count": 1,
   "metadata": {
    "collapsed": false
   },
   "outputs": [],
   "source": [
    "from __future__ import division\n",
    "import gcp.bigquery as bq\n",
    "import matplotlib.pyplot as plot\n",
    "import numpy as np"
   ]
  },
  {
   "cell_type": "markdown",
   "metadata": {},
   "source": [
    "# Understanding the Logs Data\n",
    "\n",
    "Its helpful to inspect both the dataset, and the schema and a sample of the data we're working with. Usually logs are captured as multiple tables within a dataset, with new tables added per time window (such as daily logs)."
   ]
  },
  {
   "cell_type": "code",
   "execution_count": 2,
   "metadata": {
    "collapsed": false
   },
   "outputs": [
    {
     "data": {
      "text/html": [
       "<table><tr><th>Name</th></tr><tr><td>cloud-datalab-samples:httplogs.logs_20140615</td></tr><tr><td>cloud-datalab-samples:httplogs.logs_20140616</td></tr><tr><td>cloud-datalab-samples:httplogs.logs_20140617</td></tr><tr><td>cloud-datalab-samples:httplogs.logs_20140618</td></tr><tr><td>cloud-datalab-samples:httplogs.logs_20140619</td></tr><tr><td>cloud-datalab-samples:httplogs.logs_20140620</td></tr></table>"
      ],
      "text/plain": [
       "<IPython.core.display.HTML object>"
      ]
     },
     "execution_count": 2,
     "metadata": {},
     "output_type": "execute_result"
    }
   ],
   "source": [
    "%bigquery tables --dataset \"cloud-datalab-samples:httplogs\""
   ]
  },
  {
   "cell_type": "code",
   "execution_count": 3,
   "metadata": {
    "collapsed": false
   },
   "outputs": [
    {
     "data": {
      "text/html": [
       "\n",
       "    <div class=\"bqsv\" id=\"1_144412692544\"></div>\n",
       "    <script>\n",
       "      require(['extensions/bigquery', 'element!1_144412692544', 'style!/static/extensions/bigquery.css'],\n",
       "        function(bq, dom) {\n",
       "          bq.renderSchema(dom, [{\"type\": \"TIMESTAMP\", \"name\": \"timestamp\"}, {\"type\": \"INTEGER\", \"name\": \"latency\"}, {\"type\": \"INTEGER\", \"name\": \"status\"}, {\"type\": \"STRING\", \"name\": \"method\"}, {\"type\": \"STRING\", \"name\": \"endpoint\"}]);\n",
       "        }\n",
       "      );\n",
       "    </script>\n",
       "    "
      ],
      "text/plain": [
       "<IPython.core.display.HTML object>"
      ]
     },
     "execution_count": 3,
     "metadata": {},
     "output_type": "execute_result"
    }
   ],
   "source": [
    "%bigquery schema --table cloud-datalab-samples:httplogs.logs_20140615"
   ]
  },
  {
   "cell_type": "code",
   "execution_count": 4,
   "metadata": {
    "collapsed": false
   },
   "outputs": [],
   "source": [
    "%%sql --module logs\n",
    "SELECT timestamp, latency, status, method, endpoint\n",
    "FROM [cloud-datalab-samples:httplogs.logs_20140615]\n",
    "ORDER by timestamp"
   ]
  },
  {
   "cell_type": "code",
   "execution_count": 5,
   "metadata": {
    "collapsed": false
   },
   "outputs": [
    {
     "data": {
      "text/html": [
       "\n",
       "    <div class=\"bqtv\" id=\"2_144412692696\"></div>\n",
       "    <br />(rows: 7, time: 0.8s, cached, job: job_Ef3rj5lVjJdlxDqcKlnzvPJVUTI)<br />\n",
       "    <script>\n",
       "      require(['extensions/charting', 'element!2_144412692696', 'style!/static/extensions/charting.css'],\n",
       "        function(charts, dom) {\n",
       "          charts.render(dom,\n",
       "            {\n",
       "              chartStyle:\"table\",\n",
       "              dataName:\"0\",\n",
       "              fields:\"timestamp,latency,status,method,endpoint\",\n",
       "              totalRows:7,\n",
       "              rowsPerPage:25,\n",
       "            }, {}, {\"rows\": [{\"c\": [{\"v\": \"2014-06-15T07:00:00.003772\"}, {\"v\": 122}, {\"v\": 200}, {\"v\": \"GET\"}, {\"v\": \"Interact3\"}]}, {\"c\": [{\"v\": \"2014-06-15T07:00:00.428897\"}, {\"v\": 144}, {\"v\": 200}, {\"v\": \"GET\"}, {\"v\": \"Interact3\"}]}, {\"c\": [{\"v\": \"2014-06-15T07:00:00.536486\"}, {\"v\": 48}, {\"v\": 200}, {\"v\": \"GET\"}, {\"v\": \"Interact3\"}]}, {\"c\": [{\"v\": \"2014-06-15T07:00:00.652760\"}, {\"v\": 28}, {\"v\": 405}, {\"v\": \"GET\"}, {\"v\": \"Interact2\"}]}, {\"c\": [{\"v\": \"2014-06-15T07:00:00.670100\"}, {\"v\": 103}, {\"v\": 200}, {\"v\": \"GET\"}, {\"v\": \"Interact3\"}]}, {\"c\": [{\"v\": \"2014-06-15T07:00:00.834251\"}, {\"v\": 121}, {\"v\": 405}, {\"v\": \"GET\"}, {\"v\": \"Interact2\"}]}, {\"c\": [{\"v\": \"2014-06-15T07:00:00.943075\"}, {\"v\": 28}, {\"v\": 200}, {\"v\": \"GET\"}, {\"v\": \"Other\"}]}], \"cols\": [{\"type\": \"datetime\", \"id\": \"timestamp\", \"label\": \"timestamp\"}, {\"type\": \"number\", \"id\": \"latency\", \"label\": \"latency\"}, {\"type\": \"number\", \"id\": \"status\", \"label\": \"status\"}, {\"type\": \"string\", \"id\": \"method\", \"label\": \"method\"}, {\"type\": \"string\", \"id\": \"endpoint\", \"label\": \"endpoint\"}]});\n",
       "        }\n",
       "      );\n",
       "    </script>\n",
       "  "
      ],
      "text/plain": []
     },
     "execution_count": 5,
     "metadata": {},
     "output_type": "execute_result"
    }
   ],
   "source": [
    "%%bigquery sample --query logs --count 7"
   ]
  },
  {
   "cell_type": "markdown",
   "metadata": {},
   "source": [
    "# Transforming Logs into a Time Series\n",
    "\n",
    "We're going to build a timeseries over latency. In order to make it a useful metric, we'll look at 99th percentile latency of requests within a fixed 5min window using this SQL query issued to BigQuery (notice the grouping over a truncated timestamp, and quantile aggregation)."
   ]
  },
  {
   "cell_type": "code",
   "execution_count": 6,
   "metadata": {
    "collapsed": false
   },
   "outputs": [],
   "source": [
    "%%sql --module timeseries\n",
    "SELECT INTEGER(timestamp / 300000000) * 300000000 AS window,\n",
    "       NTH(99, QUANTILES(latency, 100)) as latency\n",
    "FROM [cloud-datalab-samples:httplogs.logs_20140615]\n",
    "WHERE endpoint = 'Recent'\n",
    "GROUP BY window\n",
    "ORDER by window"
   ]
  },
  {
   "cell_type": "code",
   "execution_count": 7,
   "metadata": {
    "collapsed": false
   },
   "outputs": [
    {
     "data": {
      "text/html": [
       "\n",
       "    <div class=\"bqtv\" id=\"3_144412692885\"></div>\n",
       "    <br />(rows: 10, time: 0.8s, cached, job: job_k8IgqMnaErdmfoWkeoGR54wXdEI)<br />\n",
       "    <script>\n",
       "      require(['extensions/charting', 'element!3_144412692885', 'style!/static/extensions/charting.css'],\n",
       "        function(charts, dom) {\n",
       "          charts.render(dom,\n",
       "            {\n",
       "              chartStyle:\"table\",\n",
       "              dataName:\"1\",\n",
       "              fields:\"window,latency\",\n",
       "              totalRows:10,\n",
       "              rowsPerPage:25,\n",
       "            }, {}, {\"rows\": [{\"c\": [{\"v\": 1402815600000000}, {\"v\": 427}]}, {\"c\": [{\"v\": 1402815900000000}, {\"v\": 329}]}, {\"c\": [{\"v\": 1402816200000000}, {\"v\": 293}]}, {\"c\": [{\"v\": 1402817400000000}, {\"v\": 242}]}, {\"c\": [{\"v\": 1402818000000000}, {\"v\": 332}]}, {\"c\": [{\"v\": 1402818300000000}, {\"v\": 288}]}, {\"c\": [{\"v\": 1402818900000000}, {\"v\": 299}]}, {\"c\": [{\"v\": 1402819800000000}, {\"v\": 294}]}, {\"c\": [{\"v\": 1402820400000000}, {\"v\": 111}]}, {\"c\": [{\"v\": 1402821000000000}, {\"v\": 361}]}], \"cols\": [{\"type\": \"number\", \"id\": \"window\", \"label\": \"window\"}, {\"type\": \"number\", \"id\": \"latency\", \"label\": \"latency\"}]});\n",
       "        }\n",
       "      );\n",
       "    </script>\n",
       "  "
      ],
      "text/plain": []
     },
     "execution_count": 7,
     "metadata": {},
     "output_type": "execute_result"
    }
   ],
   "source": [
    "%%bigquery sample --query timeseries --count 10"
   ]
  },
  {
   "cell_type": "markdown",
   "metadata": {},
   "source": [
    "## Visualizing the Time Series Data\n",
    "\n",
    "Its helpful to visualize the data. In order to visualize this timeseries, we'll use python, pandas and matplotlib."
   ]
  },
  {
   "cell_type": "code",
   "execution_count": 8,
   "metadata": {
    "collapsed": false
   },
   "outputs": [],
   "source": [
    "# Execute and convert the results to a Pandas dataframe\n",
    "timeseries_df = bq.Query(timeseries).to_dataframe()\n",
    "\n",
    "timeseries_values = timeseries_df['latency'].values\n",
    "timeseries_len = len(timeseries_values)"
   ]
  },
  {
   "cell_type": "code",
   "execution_count": 9,
   "metadata": {
    "collapsed": false
   },
   "outputs": [
    {
     "data": {
      "image/png": "[encoded data removed]",
      "text/plain": [
       "<matplotlib.figure.Figure at 0x7f9296dc1650>"
      ]
     },
     "metadata": {},
     "output_type": "display_data"
    }
   ],
   "source": [
    "plot.plot(np.array(range(timeseries_len)), timeseries_values)\n",
    "plot.yscale('log')\n",
    "plot.grid()"
   ]
  },
  {
   "cell_type": "markdown",
   "metadata": {},
   "source": [
    "# Anomaly Detection"
   ]
  },
  {
   "cell_type": "markdown",
   "metadata": {},
   "source": [
    "A visual inspection of the chart above highlights the obvious anomalies, but we want to construct something that can automatically inspect the data, learn from it, and detect anomalies in an automated way."
   ]
  },
  {
   "cell_type": "markdown",
   "metadata": {},
   "source": [
    "## Anomaly Detector\n",
    "\n",
    "The code below is a simple anomaly detector created for purposes of a sample. It uses simple algorithm of tracking mean and standard deviation. You can give it a value indicating # of instances it uses to train a model before it starts detecting anomalies. As new values are passed to this, it continues to update the model (to account for slow-evolving changes), in addition to reporting anomalies. Any value that is off from the mean by 3x the standard deviation is considered as an anomaly."
   ]
  },
  {
   "cell_type": "code",
   "execution_count": 10,
   "metadata": {
    "collapsed": false
   },
   "outputs": [],
   "source": [
    "class AnomalyDetector(object):\n",
    "\n",
    "  def __init__(self, window = 10):\n",
    "    self._index = 0\n",
    "    self._window = window\n",
    "    self._values = np.zeros(window)\n",
    "    self._valuesSq = np.zeros(window)\n",
    "    self._mean = 0\n",
    "    self._variance = 0\n",
    "    self._count = 0\n",
    "\n",
    "  def observation(self, value):\n",
    "    anomaly = False\n",
    "\n",
    "    threshold = 3 * np.sqrt(self._variance)\n",
    "    if self._count > self._window:\n",
    "      if value > self._mean + threshold:\n",
    "        value = self._mean + threshold\n",
    "        anomaly = True\n",
    "      elif value < self._mean - threshold:\n",
    "        value = self._mean - threshold\n",
    "        anomaly = True\n",
    "    else:\n",
    "      self._count += 1\n",
    "\n",
    "    prev_value = self._values[self._index]\n",
    "    self._values[self._index] = value\n",
    "    self._valuesSq[self._index] = value ** 2\n",
    "    self._index = (self._index + 1) % self._window\n",
    "\n",
    "    self._mean = self._mean - prev_value / self._window + value / self._window\n",
    "    self._variance = sum(self._valuesSq) / self._window - (self._mean ** 2)\n",
    "\n",
    "    return anomaly, self._mean"
   ]
  },
  {
   "cell_type": "markdown",
   "metadata": {},
   "source": [
    "With the anomaly detector implemented, lets run the timeseries through this anomaly detector, to collect any anomalies, as well as expected mean along each point."
   ]
  },
  {
   "cell_type": "code",
   "execution_count": 11,
   "metadata": {
    "collapsed": false
   },
   "outputs": [],
   "source": [
    "anomalies = np.zeros(timeseries_len)\n",
    "means = np.zeros(timeseries_len)\n",
    "\n",
    "anomaly_detector = AnomalyDetector(36)\n",
    "\n",
    "for i, value in enumerate(timeseries_values):\n",
    "  anomaly, mean = anomaly_detector.observation(value)\n",
    "    \n",
    "  anomalies[i] = anomaly\n",
    "  means[i] = mean"
   ]
  },
  {
   "cell_type": "markdown",
   "metadata": {},
   "source": [
    "And then plot the same time series, but overlay the anomalies, and the mean values as well."
   ]
  },
  {
   "cell_type": "code",
   "execution_count": 12,
   "metadata": {
    "collapsed": false
   },
   "outputs": [
    {
     "data": {
      "image/png": "[encoded data removed]",
      "text/plain": [
       "<matplotlib.figure.Figure at 0x7f92959ad210>"
      ]
     },
     "metadata": {},
     "output_type": "display_data"
    }
   ],
   "source": [
    "ticks = np.array(range(timeseries_len))\n",
    "\n",
    "plot.plot(ticks, timeseries_values)\n",
    "plot.plot(ticks[anomalies == 1], timeseries_values[anomalies == 1], 'ro')\n",
    "plot.plot(ticks, means, 'g', linewidth = 1)\n",
    "plot.yscale('log')\n",
    "plot.grid()"
   ]
  },
  {
   "cell_type": "markdown",
   "metadata": {},
   "source": [
    "# Going Beyond the Sample"
   ]
  },
  {
   "cell_type": "markdown",
   "metadata": {},
   "source": [
    "This sample demonstrated using SQL to transform raw log data into an interesting timeseries, and then applying some Python logic to detect and visualize anomalies.\n",
    "\n",
    "In terms of next steps, here are some that would start making this more useful.\n",
    "\n",
    "* Build an initial model based on training data over a representative time, and store that model.\n",
    "\n",
    "* Parameterize the source table of the logs. You'll want to use a table that is date-based, and use a table decorater to convert the last N minutes of log data into a single timeseries point.\n",
    "\n",
    "* Pass the resulting timeseries point into an anomaly detector that uses the stored model, which would then like publish anomalies to a pub/sub topic.\n",
    "\n",
    "The notebook allows you to work with your data to explore it, understand it and work through the steps of creating derived data, into a proof of concept that you can then take to build the final solution."
   ]
  }
 ],
 "metadata": {
  "kernelspec": {
   "display_name": "Python 2",
   "language": "python",
   "name": "python2"
  },
  "language_info": {
   "codemirror_mode": {
    "name": "ipython",
    "version": 2
   },
   "file_extension": ".py",
   "mimetype": "text/x-python",
   "name": "python",
   "nbconvert_exporter": "python",
   "pygments_lexer": "ipython2",
   "version": "2.7.9"
  }
 },
 "nbformat": 4,
 "nbformat_minor": 0
}
